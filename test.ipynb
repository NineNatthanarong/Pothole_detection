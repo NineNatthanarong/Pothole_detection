{
 "cells": [
  {
   "cell_type": "code",
   "execution_count": 5,
   "metadata": {},
   "outputs": [
    {
     "name": "stdout",
     "output_type": "stream",
     "text": [
      "['25', '61']\n"
     ]
    }
   ],
   "source": [
    "import os\n",
    "import re\n",
    "\n",
    "folder_path = 'image/'  # Replace with the path to your folder\n",
    "png_files = []\n",
    "\n",
    "for file_name in os.listdir(folder_path):\n",
    "    if file_name.endswith('.png'):\n",
    "        match = re.search(r'\\d+', file_name)\n",
    "        if match:\n",
    "            number = match.group()\n",
    "            png_files.append(number)\n",
    "\n",
    "print(png_files)\n"
   ]
  },
  {
   "cell_type": "code",
   "execution_count": null,
   "metadata": {},
   "outputs": [],
   "source": [
    "import cv2\n",
    "\n",
    "# Path to the video file\n",
    "video_path = 'path/to/video/file.mp4'\n",
    "\n",
    "# Open the video file\n",
    "cap = cv2.VideoCapture(video_path)\n",
    "\n",
    "# Set the frame index to 20 (0-based index)\n",
    "frame_index = 20\n",
    "\n",
    "# Set the desired frame position\n",
    "cap.set(cv2.CAP_PROP_POS_FRAMES, frame_index)\n",
    "\n",
    "# Read the frame\n",
    "ret, frame = cap.read()\n",
    "\n",
    "\n",
    "# Display the frame\n",
    "cv2.imshow('Frame', frame)\n",
    "cv2.waitKey(0)\n",
    "\n",
    "# Release the video capture object and close the window\n",
    "cap.release()\n",
    "cv2.destroyAllWindows()\n"
   ]
  }
 ],
 "metadata": {
  "kernelspec": {
   "display_name": "Python 3",
   "language": "python",
   "name": "python3"
  },
  "language_info": {
   "codemirror_mode": {
    "name": "ipython",
    "version": 3
   },
   "file_extension": ".py",
   "mimetype": "text/x-python",
   "name": "python",
   "nbconvert_exporter": "python",
   "pygments_lexer": "ipython3",
   "version": "3.9.13"
  },
  "orig_nbformat": 4
 },
 "nbformat": 4,
 "nbformat_minor": 2
}
